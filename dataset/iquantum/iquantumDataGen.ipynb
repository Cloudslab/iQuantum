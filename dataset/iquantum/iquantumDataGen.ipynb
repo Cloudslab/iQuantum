{
 "cells": [
  {
   "attachments": {},
   "cell_type": "markdown",
   "metadata": {},
   "source": [
    "## iQuantum Dataset Generator"
   ]
  },
  {
   "cell_type": "code",
   "execution_count": 1,
   "metadata": {},
   "outputs": [],
   "source": [
    "import os\n",
    "import pandas as pd\n",
    "from qiskit import QuantumCircuit\n",
    "from qiskit.qasm import Qasm\n",
    "\n",
    "def analyze_qasm(qasm_path):\n",
    "    with open(qasm_path, \"r\") as qasm_file:\n",
    "        qasm_str = qasm_file.read()\n",
    "    qc = QuantumCircuit.from_qasm_str(qasm_str)\n",
    "    n_qubits = qc.num_qubits\n",
    "    qc_depth = qc.depth()\n",
    "\n",
    "    single_qubit_gate_names = [\"u1\", \"u2\", \"u3\", \"id\", \"x\", \"y\", \"z\", \"h\", \"s\", \"sdg\", \"t\", \"tdg\", \"rx\", \"ry\", \"rz\", \"sx\", \"measure\"]\n",
    "    multi_qubit_gate_names = [\"cx\", \"ccx\"]\n",
    "\n",
    "    single_qubit_gates = {}\n",
    "    multi_qubit_gates = {}\n",
    "\n",
    "    gate_counts = qc.count_ops()\n",
    "\n",
    "    for gate, count in gate_counts.items():\n",
    "        if gate in single_qubit_gate_names:\n",
    "            single_qubit_gates[gate] = count\n",
    "        elif gate in multi_qubit_gate_names:\n",
    "            multi_qubit_gates[gate] = count\n",
    "\n",
    "    topology = set()\n",
    "    cx_instruction = qc.get_instructions(name=\"cx\")\n",
    "    for instr, qargs, _ in cx_instruction:\n",
    "            qubit_pair = tuple([qarg.index for qarg in qargs])  # Sort qubit indices to ensure uniqueness\n",
    "            topology.add(qubit_pair)\n",
    "            topology.add(qubit_pair[::-1])  # Add the opposite connection\n",
    "    topology_sorted = sorted(list(topology))\n",
    "    topology_str = \"; \".join(map(str, topology_sorted))\n",
    "\n",
    "    return {\n",
    "        \"n_qubits\": n_qubits,\n",
    "        \"qc_depth\": qc_depth,\n",
    "        \"single_qubit_gates\": single_qubit_gates,\n",
    "        \"multi_qubit_gates\": multi_qubit_gates,\n",
    "        \"qubit_topology\": topology_str,\n",
    "    }\n",
    "    \n",
    "def export_to_csv(data, csv_path):\n",
    "    df = pd.DataFrame(data)\n",
    "    df.index.name = \"index\"\n",
    "    df.to_csv(csv_path, index=True)"
   ]
  },
  {
   "cell_type": "code",
   "execution_count": 4,
   "metadata": {},
   "outputs": [
    {
     "name": "stderr",
     "output_type": "stream",
     "text": [
      "/var/folders/_s/jg1zw33138n0bcr554kbw2lm0000gn/T/ipykernel_59609/2019718186.py:30: DeprecationWarning: Back-references to from Bit instances to their containing Registers have been deprecated. Instead, inspect Registers to find their contained Bits.\n",
      "  qubit_pair = tuple([qarg.index for qarg in qargs])  # Sort qubit indices to ensure uniqueness\n"
     ]
    }
   ],
   "source": [
    "folder_path = \"QASM/MQT-Set1-298-10-27-IBMQ27-Opt3\"\n",
    "csv_output_path = \"MQT-Set1-298-10-27-IBMQ27-Opt3.csv\"\n",
    "\n",
    "qasm_files = [os.path.join(folder_path, file) for file in os.listdir(folder_path) if file.endswith(\".qasm\")]\n",
    "\n",
    "analyzed_data = []\n",
    "\n",
    "for qasm_path in qasm_files:\n",
    "    # print(f\"Processing: {qasm_path}\")  # Add this line to print the file being processed\n",
    "    analysis = analyze_qasm(qasm_path)\n",
    "    analysis[\"qasm_file\"] = os.path.basename(qasm_path)\n",
    "    analyzed_data.append(analysis)\n",
    "\n",
    "export_to_csv(analyzed_data, csv_output_path)"
   ]
  },
  {
   "cell_type": "code",
   "execution_count": null,
   "metadata": {},
   "outputs": [],
   "source": []
  }
 ],
 "metadata": {
  "kernelspec": {
   "display_name": "mqt",
   "language": "python",
   "name": "python3"
  },
  "language_info": {
   "codemirror_mode": {
    "name": "ipython",
    "version": 3
   },
   "file_extension": ".py",
   "mimetype": "text/x-python",
   "name": "python",
   "nbconvert_exporter": "python",
   "pygments_lexer": "ipython3",
   "version": "3.10.10"
  },
  "orig_nbformat": 4
 },
 "nbformat": 4,
 "nbformat_minor": 2
}
